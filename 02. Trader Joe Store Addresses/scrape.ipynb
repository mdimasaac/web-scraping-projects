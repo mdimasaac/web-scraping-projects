{
 "cells": [
  {
   "cell_type": "code",
   "execution_count": 1,
   "metadata": {},
   "outputs": [
    {
     "name": "stderr",
     "output_type": "stream",
     "text": [
      "C:\\Users\\mdima\\AppData\\Local\\Temp\\ipykernel_14452\\3638562896.py:13: DeprecationWarning: Importing display from IPython.core.display is deprecated since IPython 7.14, please import from IPython display\n",
      "  from IPython.core.display import display,HTML\n"
     ]
    }
   ],
   "source": [
    "from selenium import webdriver\n",
    "from selenium.webdriver.chrome.options import Options\n",
    "from selenium.webdriver.common.by import By\n",
    "from webdriver_manager.chrome import ChromeDriverManager\n",
    "from selenium.webdriver.common.keys import Keys\n",
    "import time\n",
    "\n",
    "import requests\n",
    "from bs4 import BeautifulSoup as bs4\n",
    "import pandas as pd\n",
    "import numpy as np\n",
    "\n",
    "from IPython.core.display import display,HTML\n",
    "from geopy.geocoders import ArcGIS"
   ]
  },
  {
   "attachments": {},
   "cell_type": "markdown",
   "metadata": {},
   "source": [
    "### quick preparation"
   ]
  },
  {
   "cell_type": "code",
   "execution_count": 2,
   "metadata": {},
   "outputs": [],
   "source": [
    "def click(x):\n",
    "    button = driver.find_element(By.XPATH, x)\n",
    "    button.click()\n",
    "    time.sleep(2)"
   ]
  },
  {
   "attachments": {},
   "cell_type": "markdown",
   "metadata": {},
   "source": [
    "preparing the method to get the latitude and longitude coordinates from an address"
   ]
  },
  {
   "cell_type": "code",
   "execution_count": 4,
   "metadata": {},
   "outputs": [],
   "source": [
    "# preparing stuff for geopy\n",
    "nom = ArcGIS()"
   ]
  },
  {
   "attachments": {},
   "cell_type": "markdown",
   "metadata": {},
   "source": [
    "creating paths, which the webdriver runs through. change the range(200) with smaller number to shorten the run."
   ]
  },
  {
   "cell_type": "code",
   "execution_count": 8,
   "metadata": {},
   "outputs": [],
   "source": [
    "# defining possible xpath's that we want to try to click later on\n",
    "# empty list to save multiple xpath from the page\n",
    "xpath_list = []\n",
    "# making a list of clickable xpaths\n",
    "for i in range(200):\n",
    "    xpath = '/html/body/div[2]/div[2]/main/div/div/div/div[2]/div[4]/div/div/div/div[2]/div/div[%s]/a'%str(i+1)\n",
    "    xpath_list.append(xpath)"
   ]
  },
  {
   "attachments": {},
   "cell_type": "markdown",
   "metadata": {},
   "source": [
    "### selenium webdriver: clicking through all state and city names\n",
    "this is the long-run-part, where it opens the trader joe's website and clicks through all the states and cities.<br>\n",
    "this might take long. if you wish to make it shorter just to see how it works in general,<br>\n",
    "reduce the number inside the range(200) in the loop above (you can change it to e.g. 5, it will get only 5 states)."
   ]
  },
  {
   "cell_type": "code",
   "execution_count": 10,
   "metadata": {},
   "outputs": [
    {
     "name": "stderr",
     "output_type": "stream",
     "text": [
      "C:\\Users\\mdima\\AppData\\Local\\Temp\\ipykernel_14452\\2879274901.py:10: DeprecationWarning: executable_path has been deprecated, please pass in a Service object\n",
      "  driver = webdriver.Chrome(ChromeDriverManager().install())\n"
     ]
    }
   ],
   "source": [
    "url = \"https://locations.traderjoes.com\"\n",
    "# disabling browser popup notifications\n",
    "options = Options()\n",
    "options.add_argument(\"--disable-notifications\")\n",
    "# to prevent from being spotted as a robot\n",
    "options.add_argument('--disable-gpu')\n",
    "options.add_argument('user-agent=fake-useragent')\n",
    "# installing chromedriver, so that we dont need to keep the chromedriver file\n",
    "# that needs to be updated every once in a while. better install the latest automatically\n",
    "driver = webdriver.Chrome(ChromeDriverManager().install())\n",
    "# opens the browser, maximize window size\n",
    "driver.maximize_window()\n",
    "# opening url\n",
    "driver.get(url)\n",
    "# wait a bit until the \"I accept\" popup shows\n",
    "time.sleep(2)\n",
    "store_list = []\n",
    "for i in xpath_list:\n",
    "    try:\n",
    "        click(i)\n",
    "        for j in xpath_list:\n",
    "            try:\n",
    "                click(j)\n",
    "                stores = driver.current_url\n",
    "                store_list.append(stores)\n",
    "                driver.back()\n",
    "            except:\n",
    "                driver.back()\n",
    "                break\n",
    "    except:\n",
    "        break"
   ]
  },
  {
   "attachments": {},
   "cell_type": "markdown",
   "metadata": {},
   "source": [
    "check what we obtained."
   ]
  },
  {
   "cell_type": "code",
   "execution_count": 12,
   "metadata": {},
   "outputs": [
    {
     "data": {
      "text/plain": [
       "['https://locations.traderjoes.com/al/birmingham/',\n",
       " 'https://locations.traderjoes.com/al/huntsville/',\n",
       " 'https://locations.traderjoes.com/ar/little-rock/']"
      ]
     },
     "execution_count": 12,
     "metadata": {},
     "output_type": "execute_result"
    }
   ],
   "source": [
    "store_list[0:3]"
   ]
  },
  {
   "attachments": {},
   "cell_type": "markdown",
   "metadata": {},
   "source": [
    "### beautifulsoup4: getting all details from all city urls\n",
    "get all informations from each store in the store_list"
   ]
  },
  {
   "cell_type": "code",
   "execution_count": 15,
   "metadata": {},
   "outputs": [],
   "source": [
    "laddress = []\n",
    "lcity = []\n",
    "lstate = []\n",
    "lzipcode = []\n",
    "llocation = []\n",
    "for i in store_list:\n",
    "    response = requests.get(i)\n",
    "    contents = response.content\n",
    "    soup = bs4(contents, \"html.parser\")\n",
    "    allres = soup.find_all(\"div\",{\"class\":\"address-left\"})\n",
    "    for j in allres:\n",
    "        address = j.find_all(\"span\")[1].text\n",
    "        city = j.find_all(\"span\")[2].text\n",
    "        state_l = soup.find(\"div\",{\"class\":\"breadcrumb container\"}).find_all(\"a\")[2].text\n",
    "        state_s = j.find_all(\"span\")[3].text\n",
    "        zipcode = j.find_all(\"span\")[4].text\n",
    "        country = j.find_all(\"span\")[5].text\n",
    "        location = address+\", \"+city+\", \"+state_s+\", \"+zipcode+\", \"+country\n",
    "        laddress.append(address)\n",
    "        lcity.append(city)\n",
    "        lstate.append(state_l)\n",
    "        lzipcode.append(zipcode)\n",
    "        llocation.append(location)\n",
    "df = pd.DataFrame()\n",
    "df[\"address\"] = laddress\n",
    "df[\"city\"] = lcity\n",
    "df[\"state\"] = lstate\n",
    "df[\"zipcode\"] = lzipcode\n",
    "df[\"location\"] = llocation\n",
    "df[\"coordinates\"] = df[\"location\"].apply(nom.geocode)\n",
    "df[\"latitude\"] = df[\"coordinates\"].apply(lambda x: x.latitude if x != None else None)\n",
    "df[\"longitude\"] = df[\"coordinates\"].apply(lambda x: x.longitude if x != None else None)"
   ]
  },
  {
   "attachments": {},
   "cell_type": "markdown",
   "metadata": {},
   "source": [
    "check what the result looks like."
   ]
  },
  {
   "cell_type": "code",
   "execution_count": 16,
   "metadata": {},
   "outputs": [
    {
     "data": {
      "text/html": [
       "<div>\n",
       "<style scoped>\n",
       "    .dataframe tbody tr th:only-of-type {\n",
       "        vertical-align: middle;\n",
       "    }\n",
       "\n",
       "    .dataframe tbody tr th {\n",
       "        vertical-align: top;\n",
       "    }\n",
       "\n",
       "    .dataframe thead th {\n",
       "        text-align: right;\n",
       "    }\n",
       "</style>\n",
       "<table border=\"1\" class=\"dataframe\">\n",
       "  <thead>\n",
       "    <tr style=\"text-align: right;\">\n",
       "      <th></th>\n",
       "      <th>address</th>\n",
       "      <th>city</th>\n",
       "      <th>state</th>\n",
       "      <th>zipcode</th>\n",
       "      <th>location</th>\n",
       "      <th>coordinates</th>\n",
       "      <th>latitude</th>\n",
       "      <th>longitude</th>\n",
       "    </tr>\n",
       "  </thead>\n",
       "  <tbody>\n",
       "    <tr>\n",
       "      <th>0</th>\n",
       "      <td>205 Summit Blvd, Suite 100</td>\n",
       "      <td>Birmingham</td>\n",
       "      <td>Alabama (AL)</td>\n",
       "      <td>35243</td>\n",
       "      <td>205 Summit Blvd, Suite 100, Birmingham, AL, 35...</td>\n",
       "      <td>(205 Summit Blvd, Ste 100, Vestavia, Alabama, ...</td>\n",
       "      <td>33.447667</td>\n",
       "      <td>-86.728814</td>\n",
       "    </tr>\n",
       "    <tr>\n",
       "      <th>1</th>\n",
       "      <td>1100 Mid City Dr NW</td>\n",
       "      <td>Huntsville</td>\n",
       "      <td>Alabama (AL)</td>\n",
       "      <td>35806</td>\n",
       "      <td>1100 Mid City Dr NW, Huntsville, AL, 35806, US</td>\n",
       "      <td>(35806, Huntsville, Alabama, (34.7551700000000...</td>\n",
       "      <td>34.755170</td>\n",
       "      <td>-86.694565</td>\n",
       "    </tr>\n",
       "    <tr>\n",
       "      <th>2</th>\n",
       "      <td>11500 Financial Centre Pky</td>\n",
       "      <td>Little Rock</td>\n",
       "      <td>Arkansas (AR)</td>\n",
       "      <td>72211</td>\n",
       "      <td>11500 Financial Centre Pky, Little Rock, AR, 7...</td>\n",
       "      <td>(11500 Financial Centre Pky, Little Rock, Arka...</td>\n",
       "      <td>34.748223</td>\n",
       "      <td>-92.401625</td>\n",
       "    </tr>\n",
       "    <tr>\n",
       "      <th>3</th>\n",
       "      <td>1779 E. Williams Field Rd.</td>\n",
       "      <td>Gilbert</td>\n",
       "      <td>Arizona (AZ)</td>\n",
       "      <td>85295</td>\n",
       "      <td>1779 E. Williams Field Rd., Gilbert, AZ, 85295...</td>\n",
       "      <td>(1779 E Williams Field Rd, Gilbert, Arizona, 8...</td>\n",
       "      <td>33.306444</td>\n",
       "      <td>-111.751715</td>\n",
       "    </tr>\n",
       "    <tr>\n",
       "      <th>4</th>\n",
       "      <td>7720 West Bell Rd</td>\n",
       "      <td>Glendale</td>\n",
       "      <td>Arizona (AZ)</td>\n",
       "      <td>85308</td>\n",
       "      <td>7720 West Bell Rd, Glendale, AZ, 85308, US</td>\n",
       "      <td>(7720 W Bell Rd, Glendale, Arizona, 85308, (33...</td>\n",
       "      <td>33.639301</td>\n",
       "      <td>-112.226531</td>\n",
       "    </tr>\n",
       "  </tbody>\n",
       "</table>\n",
       "</div>"
      ],
      "text/plain": [
       "                      address         city          state zipcode  \\\n",
       "0  205 Summit Blvd, Suite 100   Birmingham   Alabama (AL)   35243   \n",
       "1         1100 Mid City Dr NW   Huntsville   Alabama (AL)   35806   \n",
       "2  11500 Financial Centre Pky  Little Rock  Arkansas (AR)   72211   \n",
       "3  1779 E. Williams Field Rd.      Gilbert   Arizona (AZ)   85295   \n",
       "4           7720 West Bell Rd     Glendale   Arizona (AZ)   85308   \n",
       "\n",
       "                                            location  \\\n",
       "0  205 Summit Blvd, Suite 100, Birmingham, AL, 35...   \n",
       "1     1100 Mid City Dr NW, Huntsville, AL, 35806, US   \n",
       "2  11500 Financial Centre Pky, Little Rock, AR, 7...   \n",
       "3  1779 E. Williams Field Rd., Gilbert, AZ, 85295...   \n",
       "4         7720 West Bell Rd, Glendale, AZ, 85308, US   \n",
       "\n",
       "                                         coordinates   latitude   longitude  \n",
       "0  (205 Summit Blvd, Ste 100, Vestavia, Alabama, ...  33.447667  -86.728814  \n",
       "1  (35806, Huntsville, Alabama, (34.7551700000000...  34.755170  -86.694565  \n",
       "2  (11500 Financial Centre Pky, Little Rock, Arka...  34.748223  -92.401625  \n",
       "3  (1779 E Williams Field Rd, Gilbert, Arizona, 8...  33.306444 -111.751715  \n",
       "4  (7720 W Bell Rd, Glendale, Arizona, 85308, (33...  33.639301 -112.226531  "
      ]
     },
     "execution_count": 16,
     "metadata": {},
     "output_type": "execute_result"
    }
   ],
   "source": [
    "df.head()"
   ]
  },
  {
   "cell_type": "code",
   "execution_count": 18,
   "metadata": {},
   "outputs": [
    {
     "name": "stdout",
     "output_type": "stream",
     "text": [
      "number of rows: 547\n"
     ]
    }
   ],
   "source": [
    "print(\"number of rows:\", df.shape[0])"
   ]
  },
  {
   "attachments": {},
   "cell_type": "markdown",
   "metadata": {},
   "source": [
    "beautiful. now save the result to csv file and be proud."
   ]
  },
  {
   "cell_type": "code",
   "execution_count": 17,
   "metadata": {},
   "outputs": [],
   "source": [
    "df.to_csv(\"trader_joes_store_data.csv\", index = False)"
   ]
  }
 ],
 "metadata": {
  "kernelspec": {
   "display_name": "Python 3",
   "language": "python",
   "name": "python3"
  },
  "language_info": {
   "codemirror_mode": {
    "name": "ipython",
    "version": 3
   },
   "file_extension": ".py",
   "mimetype": "text/x-python",
   "name": "python",
   "nbconvert_exporter": "python",
   "pygments_lexer": "ipython3",
   "version": "3.10.2"
  },
  "orig_nbformat": 4,
  "vscode": {
   "interpreter": {
    "hash": "1acc24bd1901f9ae8c29efb6830fcc1ca9fe0219dd00f8f1dc1b91856def15a9"
   }
  }
 },
 "nbformat": 4,
 "nbformat_minor": 2
}
