{
 "cells": [
  {
   "cell_type": "code",
   "execution_count": 1,
   "metadata": {},
   "outputs": [
    {
     "name": "stderr",
     "output_type": "stream",
     "text": [
      "C:\\Users\\mdima\\AppData\\Local\\Temp\\ipykernel_11340\\3638562896.py:13: DeprecationWarning: Importing display from IPython.core.display is deprecated since IPython 7.14, please import from IPython display\n",
      "  from IPython.core.display import display,HTML\n"
     ]
    }
   ],
   "source": [
    "from selenium import webdriver\n",
    "from selenium.webdriver.chrome.options import Options\n",
    "from selenium.webdriver.common.by import By\n",
    "from webdriver_manager.chrome import ChromeDriverManager\n",
    "from selenium.webdriver.common.keys import Keys\n",
    "import time\n",
    "\n",
    "import requests\n",
    "from bs4 import BeautifulSoup as bs4\n",
    "import pandas as pd\n",
    "import numpy as np\n",
    "\n",
    "from IPython.core.display import display,HTML\n",
    "from geopy.geocoders import ArcGIS"
   ]
  },
  {
   "cell_type": "code",
   "execution_count": 2,
   "metadata": {},
   "outputs": [],
   "source": [
    "def click(x):\n",
    "    button = driver.find_element(By.XPATH, x)\n",
    "    button.click()\n",
    "    time.sleep(2)"
   ]
  },
  {
   "cell_type": "code",
   "execution_count": 3,
   "metadata": {},
   "outputs": [],
   "source": [
    "nom = ArcGIS()"
   ]
  },
  {
   "attachments": {},
   "cell_type": "markdown",
   "metadata": {},
   "source": [
    "get url link for all states"
   ]
  },
  {
   "cell_type": "code",
   "execution_count": 12,
   "metadata": {},
   "outputs": [],
   "source": [
    "llink1 = []\n",
    "url = \"https://locations.traderjoes.com\"\n",
    "response = requests.get(url)\n",
    "contents = response.content\n",
    "soup = bs4(contents, \"html.parser\")\n",
    "itemlist = soup.find_all(\"div\",{\"class\":\"itemlist\"})\n",
    "\n",
    "for i in itemlist:\n",
    "    link = i.find(\"a\").get(\"href\")\n",
    "    llink1.append(link)\n",
    "    state = i.find(\"a\").text\n",
    "    lstate.append(state)"
   ]
  },
  {
   "attachments": {},
   "cell_type": "markdown",
   "metadata": {},
   "source": [
    "get url link for all cities in each state"
   ]
  },
  {
   "cell_type": "code",
   "execution_count": 13,
   "metadata": {},
   "outputs": [],
   "source": [
    "llink2 = []\n",
    "for i in llink1:\n",
    "    r = requests.get(i)\n",
    "    c = r.content\n",
    "    s = bs4(c, \"html.parser\")\n",
    "    item = s.find_all(\"div\",{\"class\":\"itemlist\"})\n",
    "    for j in item:\n",
    "        link = j.find(\"a\").get(\"href\")\n",
    "        llink2.append(link)\n",
    "        city = j.find(\"a\").text\n",
    "        lcity.append(city)"
   ]
  },
  {
   "attachments": {},
   "cell_type": "markdown",
   "metadata": {},
   "source": [
    "get store info for all stores in each city"
   ]
  },
  {
   "cell_type": "code",
   "execution_count": 28,
   "metadata": {},
   "outputs": [],
   "source": [
    "laddress, lcity, lstate, lzip, llocation = [],[],[],[],[]\n",
    "for i in llink2:\n",
    "    r = requests.get(i)\n",
    "    c = r.content\n",
    "    s = bs4(c, \"html.parser\")\n",
    "    container = s.find(\"div\",{\"class\":\"breadcrumb container\"})\n",
    "\n",
    "    info = s.find_all(\"div\",{\"class\":\"address-left\"})\n",
    "    for j in info:\n",
    "        state = container.find_all(\"a\")[2].text\n",
    "        lstate.append(state)\n",
    "        city = container.find(\"span\",{\"aria-current\":\"page\"}).text\n",
    "        lcity.append(city)\n",
    "        address = j.find_all(\"span\")[1].text\n",
    "        laddress.append(address)\n",
    "        state_s = j.find_all(\"span\")[3].text\n",
    "        zipcode = j.find_all(\"span\")[4].text\n",
    "        lzip.append(zipcode)\n",
    "        country = j.find_all(\"span\")[5].text\n",
    "        location = address+\", \"+city+\", \"+state_s+\", \"+zipcode+\", \"+country\n",
    "        llocation.append(location)"
   ]
  },
  {
   "attachments": {},
   "cell_type": "markdown",
   "metadata": {},
   "source": [
    "create a dataframe"
   ]
  },
  {
   "cell_type": "code",
   "execution_count": 70,
   "metadata": {},
   "outputs": [],
   "source": [
    "df = pd.DataFrame()\n",
    "df[\"address\"] = laddress\n",
    "df[\"city\"] = lcity\n",
    "df[\"state\"] = lstate\n",
    "df[\"zipcode\"] = lzip\n",
    "df[\"location\"] = llocation\n",
    "df[\"coordinates\"] = df[\"location\"].apply(nom.geocode)\n",
    "df[\"latitude\"] = df[\"coordinates\"].apply(lambda x: x.latitude if x != None else None)\n",
    "df[\"longitude\"] = df[\"coordinates\"].apply(lambda x: x.longitude if x != None else None)"
   ]
  },
  {
   "cell_type": "code",
   "execution_count": 71,
   "metadata": {},
   "outputs": [],
   "source": [
    "df = df.drop(columns = [\"coordinates\", \"location\"])"
   ]
  },
  {
   "cell_type": "code",
   "execution_count": 62,
   "metadata": {},
   "outputs": [
    {
     "data": {
      "text/plain": [
       "(547, 7)"
      ]
     },
     "execution_count": 62,
     "metadata": {},
     "output_type": "execute_result"
    }
   ],
   "source": [
    "df.shape"
   ]
  },
  {
   "cell_type": "code",
   "execution_count": 72,
   "metadata": {},
   "outputs": [],
   "source": [
    "df.to_csv(\"trader_joes_store_data.csv\", index = False)"
   ]
  },
  {
   "attachments": {},
   "cell_type": "markdown",
   "metadata": {},
   "source": [
    "Detailed explanation on how to make gspread work in your code with your google account, see [here](https://docs.gspread.org/en/latest/oauth2.html)"
   ]
  },
  {
   "cell_type": "code",
   "execution_count": 39,
   "metadata": {},
   "outputs": [],
   "source": [
    "import gspread"
   ]
  },
  {
   "cell_type": "code",
   "execution_count": 43,
   "metadata": {},
   "outputs": [],
   "source": [
    "gc = gspread.service_account(filename = \"./../../service_account.json\")\n",
    "wks = gc.open(\"trader joe\").sheet1"
   ]
  },
  {
   "cell_type": "code",
   "execution_count": 73,
   "metadata": {},
   "outputs": [
    {
     "data": {
      "text/html": [
       "<div>\n",
       "<style scoped>\n",
       "    .dataframe tbody tr th:only-of-type {\n",
       "        vertical-align: middle;\n",
       "    }\n",
       "\n",
       "    .dataframe tbody tr th {\n",
       "        vertical-align: top;\n",
       "    }\n",
       "\n",
       "    .dataframe thead th {\n",
       "        text-align: right;\n",
       "    }\n",
       "</style>\n",
       "<table border=\"1\" class=\"dataframe\">\n",
       "  <thead>\n",
       "    <tr style=\"text-align: right;\">\n",
       "      <th></th>\n",
       "      <th>address</th>\n",
       "      <th>city</th>\n",
       "      <th>state</th>\n",
       "      <th>zipcode</th>\n",
       "      <th>latitude</th>\n",
       "      <th>longitude</th>\n",
       "    </tr>\n",
       "  </thead>\n",
       "  <tbody>\n",
       "    <tr>\n",
       "      <th>0</th>\n",
       "      <td>205 Summit Blvd, Suite 100</td>\n",
       "      <td>Birmingham</td>\n",
       "      <td>Alabama (AL)</td>\n",
       "      <td>35243</td>\n",
       "      <td>33.447667</td>\n",
       "      <td>-86.728814</td>\n",
       "    </tr>\n",
       "    <tr>\n",
       "      <th>1</th>\n",
       "      <td>1100 Mid City Dr NW</td>\n",
       "      <td>Huntsville</td>\n",
       "      <td>Alabama (AL)</td>\n",
       "      <td>35806</td>\n",
       "      <td>34.743765</td>\n",
       "      <td>-86.684235</td>\n",
       "    </tr>\n",
       "    <tr>\n",
       "      <th>2</th>\n",
       "      <td>11500 Financial Centre Pky</td>\n",
       "      <td>Little Rock</td>\n",
       "      <td>Arkansas (AR)</td>\n",
       "      <td>72211</td>\n",
       "      <td>34.748223</td>\n",
       "      <td>-92.401625</td>\n",
       "    </tr>\n",
       "    <tr>\n",
       "      <th>3</th>\n",
       "      <td>1779 E. Williams Field Rd.</td>\n",
       "      <td>Gilbert</td>\n",
       "      <td>Arizona (AZ)</td>\n",
       "      <td>85295</td>\n",
       "      <td>33.306444</td>\n",
       "      <td>-111.751715</td>\n",
       "    </tr>\n",
       "    <tr>\n",
       "      <th>4</th>\n",
       "      <td>7720 West Bell Rd</td>\n",
       "      <td>Glendale</td>\n",
       "      <td>Arizona (AZ)</td>\n",
       "      <td>85308</td>\n",
       "      <td>33.639274</td>\n",
       "      <td>-112.226573</td>\n",
       "    </tr>\n",
       "    <tr>\n",
       "      <th>5</th>\n",
       "      <td>2050 E Baseline Rd</td>\n",
       "      <td>Mesa</td>\n",
       "      <td>Arizona (AZ)</td>\n",
       "      <td>85204</td>\n",
       "      <td>33.380806</td>\n",
       "      <td>-111.787196</td>\n",
       "    </tr>\n",
       "    <tr>\n",
       "      <th>6</th>\n",
       "      <td>7912 N Oracle</td>\n",
       "      <td>Oro Valley</td>\n",
       "      <td>Arizona (AZ)</td>\n",
       "      <td>85704</td>\n",
       "      <td>32.350491</td>\n",
       "      <td>-110.973229</td>\n",
       "    </tr>\n",
       "    <tr>\n",
       "      <th>7</th>\n",
       "      <td>4025 E Chandler Blvd</td>\n",
       "      <td>Phoenix</td>\n",
       "      <td>Arizona (AZ)</td>\n",
       "      <td>85048</td>\n",
       "      <td>33.303962</td>\n",
       "      <td>-111.994431</td>\n",
       "    </tr>\n",
       "    <tr>\n",
       "      <th>8</th>\n",
       "      <td>4726 East Shea Blvd</td>\n",
       "      <td>Phoenix</td>\n",
       "      <td>Arizona (AZ)</td>\n",
       "      <td>85028</td>\n",
       "      <td>33.583181</td>\n",
       "      <td>-111.979145</td>\n",
       "    </tr>\n",
       "    <tr>\n",
       "      <th>9</th>\n",
       "      <td>4821 N 20th St</td>\n",
       "      <td>Phoenix</td>\n",
       "      <td>Arizona (AZ)</td>\n",
       "      <td>85016</td>\n",
       "      <td>33.507185</td>\n",
       "      <td>-112.037875</td>\n",
       "    </tr>\n",
       "  </tbody>\n",
       "</table>\n",
       "</div>"
      ],
      "text/plain": [
       "                      address         city          state zipcode   latitude  \\\n",
       "0  205 Summit Blvd, Suite 100   Birmingham   Alabama (AL)   35243  33.447667   \n",
       "1         1100 Mid City Dr NW   Huntsville   Alabama (AL)   35806  34.743765   \n",
       "2  11500 Financial Centre Pky  Little Rock  Arkansas (AR)   72211  34.748223   \n",
       "3  1779 E. Williams Field Rd.      Gilbert   Arizona (AZ)   85295  33.306444   \n",
       "4           7720 West Bell Rd     Glendale   Arizona (AZ)   85308  33.639274   \n",
       "5          2050 E Baseline Rd         Mesa   Arizona (AZ)   85204  33.380806   \n",
       "6               7912 N Oracle   Oro Valley   Arizona (AZ)   85704  32.350491   \n",
       "7        4025 E Chandler Blvd      Phoenix   Arizona (AZ)   85048  33.303962   \n",
       "8         4726 East Shea Blvd      Phoenix   Arizona (AZ)   85028  33.583181   \n",
       "9              4821 N 20th St      Phoenix   Arizona (AZ)   85016  33.507185   \n",
       "\n",
       "    longitude  \n",
       "0  -86.728814  \n",
       "1  -86.684235  \n",
       "2  -92.401625  \n",
       "3 -111.751715  \n",
       "4 -112.226573  \n",
       "5 -111.787196  \n",
       "6 -110.973229  \n",
       "7 -111.994431  \n",
       "8 -111.979145  \n",
       "9 -112.037875  "
      ]
     },
     "execution_count": 73,
     "metadata": {},
     "output_type": "execute_result"
    }
   ],
   "source": [
    "df.head(10)"
   ]
  },
  {
   "attachments": {},
   "cell_type": "markdown",
   "metadata": {},
   "source": [
    "put dataframe values into google spreadsheet"
   ]
  },
  {
   "cell_type": "code",
   "execution_count": 1,
   "metadata": {},
   "outputs": [],
   "source": [
    "for i in range(df.shape[1]):\n",
    "    wks.update_cell(1,i+1, df.columns.tolist()[i])\n",
    "    time.sleep(1)\n",
    "\n",
    "for i in range(df.shape[0]):\n",
    "    for j in range(df.shape[1]):\n",
    "        wks.update_cell(i+2,j+1, df.iloc[i,j])\n",
    "        time.sleep(1)"
   ]
  }
 ],
 "metadata": {
  "kernelspec": {
   "display_name": "Python 3",
   "language": "python",
   "name": "python3"
  },
  "language_info": {
   "codemirror_mode": {
    "name": "ipython",
    "version": 3
   },
   "file_extension": ".py",
   "mimetype": "text/x-python",
   "name": "python",
   "nbconvert_exporter": "python",
   "pygments_lexer": "ipython3",
   "version": "3.10.2"
  },
  "orig_nbformat": 4,
  "vscode": {
   "interpreter": {
    "hash": "1acc24bd1901f9ae8c29efb6830fcc1ca9fe0219dd00f8f1dc1b91856def15a9"
   }
  }
 },
 "nbformat": 4,
 "nbformat_minor": 2
}
